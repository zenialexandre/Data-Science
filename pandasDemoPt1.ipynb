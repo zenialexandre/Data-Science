{
  "nbformat": 4,
  "nbformat_minor": 0,
  "metadata": {
    "colab": {
      "provenance": [],
      "authorship_tag": "ABX9TyOloIWWXNR3UkWWaad9EpGc",
      "include_colab_link": true
    },
    "kernelspec": {
      "name": "python3",
      "display_name": "Python 3"
    },
    "language_info": {
      "name": "python"
    }
  },
  "cells": [
    {
      "cell_type": "markdown",
      "metadata": {
        "id": "view-in-github",
        "colab_type": "text"
      },
      "source": [
        "<a href=\"https://colab.research.google.com/github/zenialexandre/Data-Science/blob/main/pandasDemoPt1.ipynb\" target=\"_parent\"><img src=\"https://colab.research.google.com/assets/colab-badge.svg\" alt=\"Open In Colab\"/></a>"
      ]
    },
    {
      "cell_type": "code",
      "execution_count": 3,
      "metadata": {
        "colab": {
          "base_uri": "https://localhost:8080/"
        },
        "id": "ClGsALQKz7Zl",
        "outputId": "ae45e83d-678e-475f-9759-9ff45cdb1b08"
      },
      "outputs": [
        {
          "output_type": "execute_result",
          "data": {
            "text/plain": [
              "Classes\\tF\\tFA\\tF%\\tFA%\n",
              "TOTAL\\t20\\t------\\t100%\\t------    1\n",
              "[10; 15[\\t3\\t8\\t15%\\t40%           1\n",
              "[15; 20[\\t2\\t10\\t10%\\t50%          1\n",
              "[20; 25[\\t6\\t16\\t30%\\t80%          1\n",
              "[25; 30]\\t4\\t20\\t20%\\t100%         1\n",
              "[5; 10[\\t5\\t5\\t25%\\t25%            1\n",
              "dtype: int64"
            ]
          },
          "metadata": {},
          "execution_count": 3
        }
      ],
      "source": [
        "import pandas as pd\n",
        "\n",
        "main_url = 'https://raw.githubusercontent.com/zenialexandre/Data-Science/main/frequencyTableA.csv'\n",
        "df_dataset = pd.read_csv(main_url)\n",
        "\n",
        "df_dataset.shape\n",
        "df_dataset.head\n",
        "df_dataset.columns\n",
        "df_dataset.index\n",
        "df_dataset.describe()\n",
        "\n",
        "df_analyze_dataset = df_dataset[['Classes\\tF\\tFA\\tF%\\tFA%']]\n",
        "type(df_analyze_dataset)\n",
        "\n",
        "df_analyze_dataset.head()\n",
        "\n",
        "# would change the values of this column\n",
        "df_analyze_dataset['Classes\\tF\\tFA\\tF%\\tFA%'].fillna(value='No', inplace=True)\n",
        "\n",
        "df_analyze_dataset.shape\n",
        "\n",
        "# deleting a column\n",
        "df_final_dataset = df_analyze_dataset.dropna(subset=['Classes\\tF\\tFA\\tF%\\tFA%'])\n",
        "df_final_dataset.shape\n",
        "\n",
        "# grouping by one column\n",
        "dataset_type = df_final_dataset.groupby('Classes\\tF\\tFA\\tF%\\tFA%')\n",
        "dataset_type.size()\n",
        "\n",
        "other_type = df_final_dataset.groupby('Classes\\tF\\tFA\\tF%\\tFA%')\n",
        "other_type.size()\n",
        "#other_type_with_type = other_type.get_group('No')"
      ]
    }
  ]
}