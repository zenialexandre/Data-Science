{
  "nbformat": 4,
  "nbformat_minor": 0,
  "metadata": {
    "colab": {
      "provenance": [],
      "authorship_tag": "ABX9TyPJ5f6GB6DEcag6Z6ZG6+Zw",
      "include_colab_link": true
    },
    "kernelspec": {
      "name": "python3",
      "display_name": "Python 3"
    },
    "language_info": {
      "name": "python"
    }
  },
  "cells": [
    {
      "cell_type": "markdown",
      "metadata": {
        "id": "view-in-github",
        "colab_type": "text"
      },
      "source": [
        "<a href=\"https://colab.research.google.com/github/zenialexandre/Data-Science/blob/main/pandasDemoPt1.ipynb\" target=\"_parent\"><img src=\"https://colab.research.google.com/assets/colab-badge.svg\" alt=\"Open In Colab\"/></a>"
      ]
    },
    {
      "cell_type": "code",
      "execution_count": 8,
      "metadata": {
        "colab": {
          "base_uri": "https://localhost:8080/"
        },
        "id": "ClGsALQKz7Zl",
        "outputId": "9ee495be-9baf-4640-8103-0afe502bde4b"
      },
      "outputs": [
        {
          "output_type": "execute_result",
          "data": {
            "text/plain": [
              "(6, 1)"
            ]
          },
          "metadata": {},
          "execution_count": 8
        }
      ],
      "source": [
        "import pandas as pd\n",
        "\n",
        "main_url = 'https://raw.githubusercontent.com/zenialexandre/Data-Science/main/frequencyTableA.csv'\n",
        "df_dataset = pd.read_csv(main_url)\n",
        "\n",
        "df_dataset.shape\n",
        "df_dataset.head\n",
        "df_dataset.columns\n",
        "\n",
        "df_analyze_dataset = df_dataset[['Classes\\tF\\tFA\\tF%\\tFA%']]\n",
        "type(df_analyze_dataset)\n",
        "\n",
        "df_analyze_dataset.head()\n",
        "\n",
        "# would change the values of this column\n",
        "# df_analyze_dataset['Classes'].fillna(value='No', inplace=True)\n",
        "\n",
        "df_analyze_dataset.shape\n",
        "\n",
        "# deleting a column\n",
        "# df_final_dataset = df_analyze_dataset.dropna(subset=['Classes'])\n",
        "# df_final_dataset.shape\n",
        "\n",
        "# grouping by one column\n",
        "# dataset_type = df_final_dataset.groupby('Classes')\n",
        "# dataset_type.size()\n",
        "\n",
        "# other_type = df_final_dataset.groupby('Classes')\n",
        "# other_type.size()\n",
        "# other_type_with_type = other_type.get_group('Yes')"
      ]
    }
  ]
}