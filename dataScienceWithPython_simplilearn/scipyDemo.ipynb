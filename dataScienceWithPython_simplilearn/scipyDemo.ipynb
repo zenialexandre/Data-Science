{
  "nbformat": 4,
  "nbformat_minor": 0,
  "metadata": {
    "colab": {
      "provenance": [],
      "collapsed_sections": [],
      "authorship_tag": "ABX9TyOy+HlXuE5Bx0T806SKsIf2",
      "include_colab_link": true
    },
    "kernelspec": {
      "name": "python3",
      "display_name": "Python 3"
    },
    "language_info": {
      "name": "python"
    }
  },
  "cells": [
    {
      "cell_type": "markdown",
      "metadata": {
        "id": "view-in-github",
        "colab_type": "text"
      },
      "source": [
        "<a href=\"https://colab.research.google.com/github/zenialexandre/Data-Science/blob/main/scipyDemo.ipynb\" target=\"_parent\"><img src=\"https://colab.research.google.com/assets/colab-badge.svg\" alt=\"Open In Colab\"/></a>"
      ]
    },
    {
      "cell_type": "code",
      "execution_count": 16,
      "metadata": {
        "colab": {
          "base_uri": "https://localhost:8080/"
        },
        "id": "ClGsALQKz7Zl",
        "outputId": "d23bbe6d-3668-4798-844c-2260c0a4829a"
      },
      "outputs": [
        {
          "output_type": "execute_result",
          "data": {
            "text/plain": [
              "array([24.,  6.])"
            ]
          },
          "metadata": {},
          "execution_count": 16
        }
      ],
      "source": [
        "import numpy as np\n",
        "from scipy import linalg\n",
        "\n",
        "# Test has 30 questions and worth 150 marks\n",
        "# True and false questions worth 4 marks each\n",
        "# Multiple choice questions worth 9 points each\n",
        "\n",
        "# var x is the number of true/false questions\n",
        "# var y is the number of multiplpe choice questions\n",
        "# (X + y = 30)\n",
        "# (4x + 9y = 150)\n",
        "\n",
        "# variables in function1 and function2\n",
        "test_question_variable = np.array([[1, 1], [4, 9]])\n",
        "\n",
        "# = values of function1 and function2\n",
        "test_question_value = np.array([30, 150])\n",
        "\n",
        "# Value for x (true/false), and the value of y (multiple choice)\n",
        "# solve() solves the linear equation\n",
        "linalg.solve(test_question_variable, test_question_value)"
      ]
    }
  ]
}