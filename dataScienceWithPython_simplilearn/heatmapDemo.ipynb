{
  "nbformat": 4,
  "nbformat_minor": 0,
  "metadata": {
    "colab": {
      "provenance": [],
      "authorship_tag": "ABX9TyPFz6oCBjmtBiqWojigC5J9",
      "include_colab_link": true
    },
    "kernelspec": {
      "name": "python3",
      "display_name": "Python 3"
    },
    "language_info": {
      "name": "python"
    }
  },
  "cells": [
    {
      "cell_type": "markdown",
      "metadata": {
        "id": "view-in-github",
        "colab_type": "text"
      },
      "source": [
        "<a href=\"https://colab.research.google.com/github/zenialexandre/Data-Science/blob/main/heatmapDemo.ipynb\" target=\"_parent\"><img src=\"https://colab.research.google.com/assets/colab-badge.svg\" alt=\"Open In Colab\"/></a>"
      ]
    },
    {
      "cell_type": "code",
      "execution_count": 24,
      "metadata": {
        "colab": {
          "base_uri": "https://localhost:8080/",
          "height": 559
        },
        "id": "R7L_3lxqYfuZ",
        "outputId": "3c65f24f-392c-4175-97e9-ae9ae06e1179"
      },
      "outputs": [
        {
          "output_type": "stream",
          "name": "stdout",
          "text": [
            "year   1949  1950  1951  1952  1953  1954  1955  1956  1957  1958  1959  1960\n",
            "month                                                                        \n",
            "Jan     112   115   145   171   196   204   242   284   315   340   360   417\n",
            "Feb     118   126   150   180   196   188   233   277   301   318   342   391\n",
            "Mar     132   141   178   193   236   235   267   317   356   362   406   419\n",
            "Apr     129   135   163   181   235   227   269   313   348   348   396   461\n",
            "May     121   125   172   183   229   234   270   318   355   363   420   472\n",
            "Jun     135   149   178   218   243   264   315   374   422   435   472   535\n",
            "Jul     148   170   199   230   264   302   364   413   465   491   548   622\n",
            "Aug     148   170   199   242   272   293   347   405   467   505   559   606\n",
            "Sep     136   158   184   209   237   259   312   355   404   404   463   508\n",
            "Oct     119   133   162   191   211   229   274   306   347   359   407   461\n",
            "Nov     104   114   146   172   180   203   237   271   305   310   362   390\n",
            "Dec     118   140   166   194   201   229   278   306   336   337   405   432\n"
          ]
        },
        {
          "output_type": "execute_result",
          "data": {
            "text/plain": [
              "<matplotlib.axes._subplots.AxesSubplot at 0x7f5236e76e10>"
            ]
          },
          "metadata": {},
          "execution_count": 24
        },
        {
          "output_type": "display_data",
          "data": {
            "text/plain": [
              "<Figure size 432x288 with 2 Axes>"
            ],
            "image/png": "[encoded data removed]"
          },
          "metadata": {
            "needs_background": "light"
          }
        }
      ],
      "source": [
        "import matplotlib.pyplot as plt\n",
        "import seaborn as sns\n",
        "%matplotlib inline\n",
        "\n",
        "# load datasets\n",
        "flight_data = sns.load_dataset('flights')\n",
        "\n",
        "# view top 5 records\n",
        "flight_data.head()\n",
        "\n",
        "# use pivot method to re-arrange the dataset\n",
        "flight_data_rearrenged = flight_data.pivot('month', 'year', 'passengers')\n",
        "print(flight_data_rearrenged)\n",
        "\n",
        "# use heatmap method to generate the heatmap\n",
        "# for this to work, use the version of the data that was rearrenged by the pivot()\n",
        "sns.heatmap(flight_data_rearrenged)"
      ]
    }
  ]
}