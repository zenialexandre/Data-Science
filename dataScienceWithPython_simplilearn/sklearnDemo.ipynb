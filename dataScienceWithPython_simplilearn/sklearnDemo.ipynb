{
  "nbformat": 4,
  "nbformat_minor": 0,
  "metadata": {
    "colab": {
      "provenance": [],
      "collapsed_sections": [],
      "authorship_tag": "ABX9TyNHR9hDU6RuiwUgZClNKEQg",
      "include_colab_link": true
    },
    "kernelspec": {
      "name": "python3",
      "display_name": "Python 3"
    },
    "language_info": {
      "name": "python"
    }
  },
  "cells": [
    {
      "cell_type": "markdown",
      "metadata": {
        "id": "view-in-github",
        "colab_type": "text"
      },
      "source": [
        "<a href=\"https://colab.research.google.com/github/zenialexandre/Data-Science/blob/main/sklearnDemo.ipynb\" target=\"_parent\"><img src=\"https://colab.research.google.com/assets/colab-badge.svg\" alt=\"Open In Colab\"/></a>"
      ]
    },
    {
      "cell_type": "code",
      "execution_count": 74,
      "metadata": {
        "colab": {
          "base_uri": "https://localhost:8080/"
        },
        "id": "ClGsALQKz7Zl",
        "outputId": "57999408-f864-4165-b399-764f43c18352"
      },
      "outputs": [
        {
          "output_type": "stream",
          "name": "stdout",
          "text": [
            "(3, 1)\n",
            "(3, 1)\n",
            "(2, 1)\n",
            "(2, 1)\n",
            "[99999.]\n",
            "[[0.]]\n",
            "[[99999.]\n",
            " [99999.]]\n",
            "0.0\n"
          ]
        }
      ],
      "source": [
        "from IPython.utils.text import columnize\n",
        "import pandas as pd\n",
        "import numpy as np\n",
        "import re\n",
        "from random import random\n",
        "from sklearn.model_selection import train_test_split\n",
        "from sklearn.linear_model import LinearRegression\n",
        "from sklearn import metrics\n",
        "\n",
        "# x feature, y response\n",
        "\n",
        "df_dataset = pd.read_csv(\"https://raw.githubusercontent.com/zenialexandre/Data-Science/main/dataScienceWithPython_simplilearn/annual-enterprise-survey-2021-financial-year-provisional-csv.csv\", index_col=0)\n",
        "\n",
        "df_dataset.head()\n",
        "df_dataset.size\n",
        "df_dataset.shape\n",
        "df_dataset.columns\n",
        "\n",
        "df_dataset['Units'].replace({'Dollars (millions)': 'Dollars'}, inplace=True)\n",
        "\n",
        "x_feature = df_dataset[['Industry_code_NZSIOC']].head()\n",
        "x_feature.head()\n",
        "\n",
        "y_target = df_dataset[['Industry_code_NZSIOC']].head()\n",
        "y_target.head()\n",
        "\n",
        "x_feature.shape\n",
        "y_target.shape\n",
        "\n",
        "#----\n",
        "\n",
        "x_train, x_test, y_train, y_test = train_test_split(x_feature, y_target, random_state=1)\n",
        "\n",
        "print(x_train.shape)\n",
        "print(y_train.shape)\n",
        "print(x_test.shape)\n",
        "print(y_test.shape)\n",
        "\n",
        "#----\n",
        "\n",
        "linreg = LinearRegression()\n",
        "linreg.fit(x_train, y_train)\n",
        "\n",
        "print(linreg.intercept_)\n",
        "print(linreg.coef_)\n",
        "\n",
        "#----\n",
        "\n",
        "y_prediction = linreg.predict(x_test)\n",
        "print(y_prediction)\n",
        "\n",
        "print(np.sqrt(metrics.mean_squared_error(y_test, y_prediction)))"
      ]
    }
  ]
}