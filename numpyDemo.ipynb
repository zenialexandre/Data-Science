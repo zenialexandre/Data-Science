{
  "nbformat": 4,
  "nbformat_minor": 0,
  "metadata": {
    "colab": {
      "provenance": [],
      "authorship_tag": "ABX9TyMEPY0h8GvxuIdWduxrP9pI",
      "include_colab_link": true
    },
    "kernelspec": {
      "name": "python3",
      "display_name": "Python 3"
    },
    "language_info": {
      "name": "python"
    }
  },
  "cells": [
    {
      "cell_type": "markdown",
      "metadata": {
        "id": "view-in-github",
        "colab_type": "text"
      },
      "source": [
        "<a href=\"https://colab.research.google.com/github/zenialexandre/Statistics/blob/main/numpyDemo.ipynb\" target=\"_parent\"><img src=\"https://colab.research.google.com/assets/colab-badge.svg\" alt=\"Open In Colab\"/></a>"
      ]
    },
    {
      "cell_type": "code",
      "execution_count": 8,
      "metadata": {
        "colab": {
          "base_uri": "https://localhost:8080/"
        },
        "id": "PCPNl2CoL0c1",
        "outputId": "bdddf325-8c98-4771-c07e-ce83841ccf48"
      },
      "outputs": [
        {
          "output_type": "stream",
          "name": "stdout",
          "text": [
            "first_array =  [1 2 3 4]\n",
            "array_with_zeros =  [[0. 0. 0.]\n",
            " [0. 0. 0.]\n",
            " [0. 0. 0.]]\n",
            "array_with_ones =  [[1. 1. 1.]\n",
            " [1. 1. 1.]\n",
            " [1. 1. 1.]]\n",
            "empty_array =  [[3.12230516e-316 0.00000000e+000 0.00000000e+000]\n",
            " [0.00000000e+000 0.00000000e+000 0.00000000e+000]]\n",
            "np_arange =  [ 0  1  2  3  4  5  6  7  8  9 10 11]\n",
            "np_arange reshaped =  [ 0  1  2  3  4  5  6  7  8  9 10 11]\n",
            "np_linspce =  [1.   2.25 3.5  4.75 6.  ]\n",
            "oneD_array =  [ 0  1  2  3  4  5  6  7  8  9 10 11 12 13 14]\n",
            "twoD_array = \n",
            " [[ 0  1  2  3  4]\n",
            " [ 5  6  7  8  9]\n",
            " [10 11 12 13 14]]\n",
            "threeD_array =  [[[ 0  1  2]\n",
            "  [ 3  4  5]\n",
            "  [ 6  7  8]]\n",
            "\n",
            " [[ 9 10 11]\n",
            "  [12 13 14]\n",
            "  [15 16 17]]\n",
            "\n",
            " [[18 19 20]\n",
            "  [21 22 23]\n",
            "  [24 25 26]]]\n"
          ]
        }
      ],
      "source": [
        "import numpy as np\n",
        "\n",
        "first_array = np.array([1, 2, 3, 4])\n",
        "print('first_array = ', first_array)\n",
        "\n",
        "array_with_zeros = np.zeros((3, 3)) # only passing the dimensions\n",
        "print('array_with_zeros = ', array_with_zeros)\n",
        "\n",
        "array_with_ones = np.ones((3, 3))\n",
        "print('array_with_ones = ', array_with_ones)\n",
        "\n",
        "empty_array = np.empty((2, 3)) # return random numbers\n",
        "print('empty_array = ', empty_array)\n",
        "\n",
        "np_arange = np.arange(12)\n",
        "print('np_arange = ', np_arange)\n",
        "\n",
        "np_arange.reshape(3, 4)\n",
        "print('np_arange reshaped = ', np_arange)\n",
        "\n",
        "np_linspce = np.linspace(1, 6, 5) # nearly equal spaced elements\n",
        "print('np_linspce = ', np_linspce)\n",
        "\n",
        "oneD_array = np.arange(15)\n",
        "print('oneD_array = ', oneD_array)\n",
        "\n",
        "twoD_array = oneD_array.reshape(3, 5) # 3 rows and 5 columns\n",
        "print('twoD_array = \\n', twoD_array)\n",
        "\n",
        "threeD_array = np.arange(27).reshape(3, 3, 3)\n",
        "print('threeD_array = \\n', threeD_array)"
      ]
    }
  ]
}