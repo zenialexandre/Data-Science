{
  "nbformat": 4,
  "nbformat_minor": 0,
  "metadata": {
    "colab": {
      "provenance": [],
      "collapsed_sections": [],
      "toc_visible": true,
      "authorship_tag": "ABX9TyOFjA3DbxlVyzeId3oQxd0/",
      "include_colab_link": true
    },
    "kernelspec": {
      "name": "python3",
      "display_name": "Python 3"
    },
    "language_info": {
      "name": "python"
    }
  },
  "cells": [
    {
      "cell_type": "markdown",
      "metadata": {
        "id": "view-in-github",
        "colab_type": "text"
      },
      "source": [
        "<a href=\"https://colab.research.google.com/github/zenialexandre/Statistics/blob/main/trabalho1Estatistica.ipynb\" target=\"_parent\"><img src=\"https://colab.research.google.com/assets/colab-badge.svg\" alt=\"Open In Colab\"/></a>"
      ]
    },
    {
      "cell_type": "code",
      "execution_count": null,
      "metadata": {
        "colab": {
          "base_uri": "https://localhost:8080/",
          "height": 352
        },
        "id": "9U9IkUIOX3Mc",
        "outputId": "586ec6a3-cc47-4c01-c2bf-e04e315f9611"
      },
      "outputs": [
        {
          "output_type": "stream",
          "name": "stdout",
          "text": [
            "Subdivisões representativa\n"
          ]
        },
        {
          "output_type": "display_data",
          "data": {
            "text/plain": [
              "<Figure size 432x288 with 1 Axes>"
            ],
            "image/png": "[encoded data removed]"
          },
          "metadata": {
            "needs_background": "light"
          }
        },
        {
          "output_type": "stream",
          "name": "stdout",
          "text": [
            "Proporção de subdivisões tem o comprimento total menor que 2.000:  23\n",
            "Entre 2.000 e 4.000:  17\n",
            "Este histograma possui uma assimetria em ambos os lados, com um pico maior na esquerda e um pico menor na direita do mesmo.\n",
            "Este histograma seria Bimodal, pois existe a existencia de dois picos.\n"
          ]
        }
      ],
      "source": [
        "#1)a)\n",
        "import matplotlib.pyplot as plt\n",
        "import pandas as pd\n",
        "\n",
        "representative_subdivision = [1280, 5320, 4390, 2100, 1240, 3060, 4770, 1050, 1320, 360, 3330, 3380, 530, 3350, 960, 1120, 2120, 3150, 5700, 5220, 2700, 2730, 1670, 510, 240, 340, 1000, 960, 540, 3870, 1250, 2400, 450, 2250, 2320, 2400, 500, 1850, 2460, 5850, 100, 5770, 3150, 1890, 396, 1419, 2109]\n",
        "df = pd.DataFrame(representative_subdivision, columns=[\"representative_subdivision\"])\n",
        "\n",
        "representative_subdivision.sort()\n",
        "plt.hist(representative_subdivision, bins = 7)\n",
        "print(\"Subdivisões representativa\")\n",
        "plt.show()\n",
        "\n",
        "print(\"Proporção de subdivisões tem o comprimento total menor que 2.000: \", len(df[df[\"representative_subdivision\"] < 2000]))\n",
        "print(\"Entre 2.000 e 4.000: \", len(df[(df[\"representative_subdivision\"] > 2000) & (df[\"representative_subdivision\"] < 4000)]))\n",
        "print(\"Este histograma possui uma assimetria em ambos os lados, com um pico maior na esquerda e um pico menor na direita do mesmo.\")\n",
        "print(\"Este histograma seria Bimodal, pois existe a existencia de dois picos.\")\n"
      ]
    },
    {
      "cell_type": "code",
      "source": [
        "#1)b)\n",
        "import pandas as pd\n",
        "\n",
        "representative_subdivision = [1280, 5320, 4390, 2100, 1240, 3060, 4770, 1050, 1320, 360, 3330, 3380, 530, 3350, 960, 1120, 2120, 3150, 5700, 5220, 2700, 2730, 1670, 510, 240, 340, 1000, 960, 540, 3870, 1250, 2400, 450, 2250, 2320, 2400, 500, 1850, 2460, 5850, 100, 5770, 3150, 1890, 396, 1419, 2109]\n",
        "data = pd.DataFrame(representative_subdivision)\n",
        "print(data.describe())"
      ],
      "metadata": {
        "colab": {
          "base_uri": "https://localhost:8080/"
        },
        "id": "KT9MDJz1exLZ",
        "outputId": "bfbdd41a-578a-4957-d432-a82934616b67"
      },
      "execution_count": null,
      "outputs": [
        {
          "output_type": "stream",
          "name": "stdout",
          "text": [
            "                 0\n",
            "count    47.000000\n",
            "mean   2231.361702\n",
            "std    1634.114112\n",
            "min     100.000000\n",
            "25%     980.000000\n",
            "50%    2100.000000\n",
            "75%    3150.000000\n",
            "max    5850.000000\n"
          ]
        }
      ]
    },
    {
      "cell_type": "code",
      "source": [
        "#1)c)\n",
        "import plotly.express as px\n",
        "\n",
        "representative_subdivision = [1280, 5320, 4390, 2100, 1240, 3060, 4770, 1050, 1320, 360, 3330, 3380, 530, 3350, 960, 1120, 2120, 3150, 5700, 5220, 2700, 2730, 1670, 510, 240, 340, 1000, 960, 540, 3870, 1250, 2400, 450, 2250, 2320, 2400, 500, 1850, 2460, 5850, 100, 5770, 3150, 1890, 396, 1419, 2109]\n",
        "fig = px.box(representative_subdivision)\n",
        "fig.show()\n"
      ],
      "metadata": {
        "colab": {
          "base_uri": "https://localhost:8080/",
          "height": 542
        },
        "id": "H2AI95_hji7_",
        "outputId": "1c2b9f49-9836-4784-992e-88ac09bbd91b"
      },
      "execution_count": null,
      "outputs": [
        {
          "output_type": "display_data",
          "data": {
            "text/html": [
              "<html>\n",
              "<head><meta charset=\"utf-8\" /></head>\n",
              "<body>\n",
              "    <div>            <script src=\"https://cdnjs.cloudflare.com/ajax/libs/mathjax/2.7.5/MathJax.js?config=TeX-AMS-MML_SVG\"></script><script type=\"text/javascript\">if (window.MathJax) {MathJax.Hub.Config({SVG: {font: \"STIX-Web\"}});}</script>                <script type=\"text/javascript\">window.PlotlyConfig = {MathJaxConfig: 'local'};</script>\n",
              "        <script src=\"https://cdn.plot.ly/plotly-2.8.3.min.js\"></script>                <div id=\"3fdea82b-41bd-42b8-a6ee-8f41428ee663\" class=\"plotly-graph-div\" style=\"height:525px; width:100%;\"></div>            <script type=\"text/javascript\">                                    window.PLOTLYENV=window.PLOTLYENV || {};                                    if (document.getElementById(\"3fdea82b-41bd-42b8-a6ee-8f41428ee663\")) {                    Plotly.newPlot(                        \"3fdea82b-41bd-42b8-a6ee-8f41428ee663\",                        [{\"alignmentgroup\":\"True\",\"hovertemplate\":\"variable=%{x}<br>value=%{y}<extra></extra>\",\"legendgroup\":\"\",\"marker\":{\"color\":\"#636efa\"},\"name\":\"\",\"notched\":false,\"offsetgroup\":\"\",\"orientation\":\"v\",\"showlegend\":false,\"x\":[\"0\",\"0\",\"0\",\"0\",\"0\",\"0\",\"0\",\"0\",\"0\",\"0\",\"0\",\"0\",\"0\",\"0\",\"0\",\"0\",\"0\",\"0\",\"0\",\"0\",\"0\",\"0\",\"0\",\"0\",\"0\",\"0\",\"0\",\"0\",\"0\",\"0\",\"0\",\"0\",\"0\",\"0\",\"0\",\"0\",\"0\",\"0\",\"0\",\"0\",\"0\",\"0\",\"0\",\"0\",\"0\",\"0\",\"0\"],\"x0\":\" \",\"xaxis\":\"x\",\"y\":[1280,5320,4390,2100,1240,3060,4770,1050,1320,360,3330,3380,530,3350,960,1120,2120,3150,5700,5220,2700,2730,1670,510,240,340,1000,960,540,3870,1250,2400,450,2250,2320,2400,500,1850,2460,5850,100,5770,3150,1890,396,1419,2109],\"y0\":\" \",\"yaxis\":\"y\",\"type\":\"box\"}],                        {\"template\":{\"data\":{\"bar\":[{\"error_x\":{\"color\":\"#2a3f5f\"},\"error_y\":{\"color\":\"#2a3f5f\"},\"marker\":{\"line\":{\"color\":\"#E5ECF6\",\"width\":0.5},\"pattern\":{\"fillmode\":\"overlay\",\"size\":10,\"solidity\":0.2}},\"type\":\"bar\"}],\"barpolar\":[{\"marker\":{\"line\":{\"color\":\"#E5ECF6\",\"width\":0.5},\"pattern\":{\"fillmode\":\"overlay\",\"size\":10,\"solidity\":0.2}},\"type\":\"barpolar\"}],\"carpet\":[{\"aaxis\":{\"endlinecolor\":\"#2a3f5f\",\"gridcolor\":\"white\",\"linecolor\":\"white\",\"minorgridcolor\":\"white\",\"startlinecolor\":\"#2a3f5f\"},\"baxis\":{\"endlinecolor\":\"#2a3f5f\",\"gridcolor\":\"white\",\"linecolor\":\"white\",\"minorgridcolor\":\"white\",\"startlinecolor\":\"#2a3f5f\"},\"type\":\"carpet\"}],\"choropleth\":[{\"colorbar\":{\"outlinewidth\":0,\"ticks\":\"\"},\"type\":\"choropleth\"}],\"contour\":[{\"colorbar\":{\"outlinewidth\":0,\"ticks\":\"\"},\"colorscale\":[[0.0,\"#0d0887\"],[0.1111111111111111,\"#46039f\"],[0.2222222222222222,\"#7201a8\"],[0.3333333333333333,\"#9c179e\"],[0.4444444444444444,\"#bd3786\"],[0.5555555555555556,\"#d8576b\"],[0.6666666666666666,\"#ed7953\"],[0.7777777777777778,\"#fb9f3a\"],[0.8888888888888888,\"#fdca26\"],[1.0,\"#f0f921\"]],\"type\":\"contour\"}],\"contourcarpet\":[{\"colorbar\":{\"outlinewidth\":0,\"ticks\":\"\"},\"type\":\"contourcarpet\"}],\"heatmap\":[{\"colorbar\":{\"outlinewidth\":0,\"ticks\":\"\"},\"colorscale\":[[0.0,\"#0d0887\"],[0.1111111111111111,\"#46039f\"],[0.2222222222222222,\"#7201a8\"],[0.3333333333333333,\"#9c179e\"],[0.4444444444444444,\"#bd3786\"],[0.5555555555555556,\"#d8576b\"],[0.6666666666666666,\"#ed7953\"],[0.7777777777777778,\"#fb9f3a\"],[0.8888888888888888,\"#fdca26\"],[1.0,\"#f0f921\"]],\"type\":\"heatmap\"}],\"heatmapgl\":[{\"colorbar\":{\"outlinewidth\":0,\"ticks\":\"\"},\"colorscale\":[[0.0,\"#0d0887\"],[0.1111111111111111,\"#46039f\"],[0.2222222222222222,\"#7201a8\"],[0.3333333333333333,\"#9c179e\"],[0.4444444444444444,\"#bd3786\"],[0.5555555555555556,\"#d8576b\"],[0.6666666666666666,\"#ed7953\"],[0.7777777777777778,\"#fb9f3a\"],[0.8888888888888888,\"#fdca26\"],[1.0,\"#f0f921\"]],\"type\":\"heatmapgl\"}],\"histogram\":[{\"marker\":{\"pattern\":{\"fillmode\":\"overlay\",\"size\":10,\"solidity\":0.2}},\"type\":\"histogram\"}],\"histogram2d\":[{\"colorbar\":{\"outlinewidth\":0,\"ticks\":\"\"},\"colorscale\":[[0.0,\"#0d0887\"],[0.1111111111111111,\"#46039f\"],[0.2222222222222222,\"#7201a8\"],[0.3333333333333333,\"#9c179e\"],[0.4444444444444444,\"#bd3786\"],[0.5555555555555556,\"#d8576b\"],[0.6666666666666666,\"#ed7953\"],[0.7777777777777778,\"#fb9f3a\"],[0.8888888888888888,\"#fdca26\"],[1.0,\"#f0f921\"]],\"type\":\"histogram2d\"}],\"histogram2dcontour\":[{\"colorbar\":{\"outlinewidth\":0,\"ticks\":\"\"},\"colorscale\":[[0.0,\"#0d0887\"],[0.1111111111111111,\"#46039f\"],[0.2222222222222222,\"#7201a8\"],[0.3333333333333333,\"#9c179e\"],[0.4444444444444444,\"#bd3786\"],[0.5555555555555556,\"#d8576b\"],[0.6666666666666666,\"#ed7953\"],[0.7777777777777778,\"#fb9f3a\"],[0.8888888888888888,\"#fdca26\"],[1.0,\"#f0f921\"]],\"type\":\"histogram2dcontour\"}],\"mesh3d\":[{\"colorbar\":{\"outlinewidth\":0,\"ticks\":\"\"},\"type\":\"mesh3d\"}],\"parcoords\":[{\"line\":{\"colorbar\":{\"outlinewidth\":0,\"ticks\":\"\"}},\"type\":\"parcoords\"}],\"pie\":[{\"automargin\":true,\"type\":\"pie\"}],\"scatter\":[{\"marker\":{\"colorbar\":{\"outlinewidth\":0,\"ticks\":\"\"}},\"type\":\"scatter\"}],\"scatter3d\":[{\"line\":{\"colorbar\":{\"outlinewidth\":0,\"ticks\":\"\"}},\"marker\":{\"colorbar\":{\"outlinewidth\":0,\"ticks\":\"\"}},\"type\":\"scatter3d\"}],\"scattercarpet\":[{\"marker\":{\"colorbar\":{\"outlinewidth\":0,\"ticks\":\"\"}},\"type\":\"scattercarpet\"}],\"scattergeo\":[{\"marker\":{\"colorbar\":{\"outlinewidth\":0,\"ticks\":\"\"}},\"type\":\"scattergeo\"}],\"scattergl\":[{\"marker\":{\"colorbar\":{\"outlinewidth\":0,\"ticks\":\"\"}},\"type\":\"scattergl\"}],\"scattermapbox\":[{\"marker\":{\"colorbar\":{\"outlinewidth\":0,\"ticks\":\"\"}},\"type\":\"scattermapbox\"}],\"scatterpolar\":[{\"marker\":{\"colorbar\":{\"outlinewidth\":0,\"ticks\":\"\"}},\"type\":\"scatterpolar\"}],\"scatterpolargl\":[{\"marker\":{\"colorbar\":{\"outlinewidth\":0,\"ticks\":\"\"}},\"type\":\"scatterpolargl\"}],\"scatterternary\":[{\"marker\":{\"colorbar\":{\"outlinewidth\":0,\"ticks\":\"\"}},\"type\":\"scatterternary\"}],\"surface\":[{\"colorbar\":{\"outlinewidth\":0,\"ticks\":\"\"},\"colorscale\":[[0.0,\"#0d0887\"],[0.1111111111111111,\"#46039f\"],[0.2222222222222222,\"#7201a8\"],[0.3333333333333333,\"#9c179e\"],[0.4444444444444444,\"#bd3786\"],[0.5555555555555556,\"#d8576b\"],[0.6666666666666666,\"#ed7953\"],[0.7777777777777778,\"#fb9f3a\"],[0.8888888888888888,\"#fdca26\"],[1.0,\"#f0f921\"]],\"type\":\"surface\"}],\"table\":[{\"cells\":{\"fill\":{\"color\":\"#EBF0F8\"},\"line\":{\"color\":\"white\"}},\"header\":{\"fill\":{\"color\":\"#C8D4E3\"},\"line\":{\"color\":\"white\"}},\"type\":\"table\"}]},\"layout\":{\"annotationdefaults\":{\"arrowcolor\":\"#2a3f5f\",\"arrowhead\":0,\"arrowwidth\":1},\"autotypenumbers\":\"strict\",\"coloraxis\":{\"colorbar\":{\"outlinewidth\":0,\"ticks\":\"\"}},\"colorscale\":{\"diverging\":[[0,\"#8e0152\"],[0.1,\"#c51b7d\"],[0.2,\"#de77ae\"],[0.3,\"#f1b6da\"],[0.4,\"#fde0ef\"],[0.5,\"#f7f7f7\"],[0.6,\"#e6f5d0\"],[0.7,\"#b8e186\"],[0.8,\"#7fbc41\"],[0.9,\"#4d9221\"],[1,\"#276419\"]],\"sequential\":[[0.0,\"#0d0887\"],[0.1111111111111111,\"#46039f\"],[0.2222222222222222,\"#7201a8\"],[0.3333333333333333,\"#9c179e\"],[0.4444444444444444,\"#bd3786\"],[0.5555555555555556,\"#d8576b\"],[0.6666666666666666,\"#ed7953\"],[0.7777777777777778,\"#fb9f3a\"],[0.8888888888888888,\"#fdca26\"],[1.0,\"#f0f921\"]],\"sequentialminus\":[[0.0,\"#0d0887\"],[0.1111111111111111,\"#46039f\"],[0.2222222222222222,\"#7201a8\"],[0.3333333333333333,\"#9c179e\"],[0.4444444444444444,\"#bd3786\"],[0.5555555555555556,\"#d8576b\"],[0.6666666666666666,\"#ed7953\"],[0.7777777777777778,\"#fb9f3a\"],[0.8888888888888888,\"#fdca26\"],[1.0,\"#f0f921\"]]},\"colorway\":[\"#636efa\",\"#EF553B\",\"#00cc96\",\"#ab63fa\",\"#FFA15A\",\"#19d3f3\",\"#FF6692\",\"#B6E880\",\"#FF97FF\",\"#FECB52\"],\"font\":{\"color\":\"#2a3f5f\"},\"geo\":{\"bgcolor\":\"white\",\"lakecolor\":\"white\",\"landcolor\":\"#E5ECF6\",\"showlakes\":true,\"showland\":true,\"subunitcolor\":\"white\"},\"hoverlabel\":{\"align\":\"left\"},\"hovermode\":\"closest\",\"mapbox\":{\"style\":\"light\"},\"paper_bgcolor\":\"white\",\"plot_bgcolor\":\"#E5ECF6\",\"polar\":{\"angularaxis\":{\"gridcolor\":\"white\",\"linecolor\":\"white\",\"ticks\":\"\"},\"bgcolor\":\"#E5ECF6\",\"radialaxis\":{\"gridcolor\":\"white\",\"linecolor\":\"white\",\"ticks\":\"\"}},\"scene\":{\"xaxis\":{\"backgroundcolor\":\"#E5ECF6\",\"gridcolor\":\"white\",\"gridwidth\":2,\"linecolor\":\"white\",\"showbackground\":true,\"ticks\":\"\",\"zerolinecolor\":\"white\"},\"yaxis\":{\"backgroundcolor\":\"#E5ECF6\",\"gridcolor\":\"white\",\"gridwidth\":2,\"linecolor\":\"white\",\"showbackground\":true,\"ticks\":\"\",\"zerolinecolor\":\"white\"},\"zaxis\":{\"backgroundcolor\":\"#E5ECF6\",\"gridcolor\":\"white\",\"gridwidth\":2,\"linecolor\":\"white\",\"showbackground\":true,\"ticks\":\"\",\"zerolinecolor\":\"white\"}},\"shapedefaults\":{\"line\":{\"color\":\"#2a3f5f\"}},\"ternary\":{\"aaxis\":{\"gridcolor\":\"white\",\"linecolor\":\"white\",\"ticks\":\"\"},\"baxis\":{\"gridcolor\":\"white\",\"linecolor\":\"white\",\"ticks\":\"\"},\"bgcolor\":\"#E5ECF6\",\"caxis\":{\"gridcolor\":\"white\",\"linecolor\":\"white\",\"ticks\":\"\"}},\"title\":{\"x\":0.05},\"xaxis\":{\"automargin\":true,\"gridcolor\":\"white\",\"linecolor\":\"white\",\"ticks\":\"\",\"title\":{\"standoff\":15},\"zerolinecolor\":\"white\",\"zerolinewidth\":2},\"yaxis\":{\"automargin\":true,\"gridcolor\":\"white\",\"linecolor\":\"white\",\"ticks\":\"\",\"title\":{\"standoff\":15},\"zerolinecolor\":\"white\",\"zerolinewidth\":2}}},\"xaxis\":{\"anchor\":\"y\",\"domain\":[0.0,1.0],\"title\":{\"text\":\"variable\"}},\"yaxis\":{\"anchor\":\"x\",\"domain\":[0.0,1.0],\"title\":{\"text\":\"value\"}},\"legend\":{\"tracegroupgap\":0},\"margin\":{\"t\":60},\"boxmode\":\"group\"},                        {\"responsive\": true}                    ).then(function(){\n",
              "                            \n",
              "var gd = document.getElementById('3fdea82b-41bd-42b8-a6ee-8f41428ee663');\n",
              "var x = new MutationObserver(function (mutations, observer) {{\n",
              "        var display = window.getComputedStyle(gd).display;\n",
              "        if (!display || display === 'none') {{\n",
              "            console.log([gd, 'removed!']);\n",
              "            Plotly.purge(gd);\n",
              "            observer.disconnect();\n",
              "        }}\n",
              "}});\n",
              "\n",
              "// Listen for the removal of the full notebook cells\n",
              "var notebookContainer = gd.closest('#notebook-container');\n",
              "if (notebookContainer) {{\n",
              "    x.observe(notebookContainer, {childList: true});\n",
              "}}\n",
              "\n",
              "// Listen for the clearing of the current output cell\n",
              "var outputEl = gd.closest('.output');\n",
              "if (outputEl) {{\n",
              "    x.observe(outputEl, {childList: true});\n",
              "}}\n",
              "\n",
              "                        })                };                            </script>        </div>\n",
              "</body>\n",
              "</html>"
            ]
          },
          "metadata": {}
        }
      ]
    },
    {
      "cell_type": "code",
      "source": [
        "#1)d)\n",
        "import pandas as pd\n",
        "import numpy as np\n",
        "import statistics as st\n",
        "\n",
        "representative_subdivision = [1280, 5320, 4390, 2100, 1240, 3060, 4770, 1050, 1320, 360, 3330, 3380, 530, 3350, 960, 1120, 2120, 3150, 5700, 5220, 2700, 2730, 1670, 510, 240, 340, 1000, 960, 540, 3870, 1250, 2400, 450, 2250, 2320, 2400, 500, 1850, 2460, 5850, 100, 5770, 3150, 1890, 396, 1419, 2109]\n",
        "sortedList = sorted(representative_subdivision)\n",
        "data = pd.DataFrame(representative_subdivision)\n",
        "amplTotal = sortedList[len(sortedList) - 1] - sortedList[0]\n",
        "coefCovar = lambda x: np.std(x, ddof = 1) / np.mean(x) * 100\n",
        "\n",
        "print(\"Amplitude total: \", amplTotal)\n",
        "print(\"Variância: \", np.var(representative_subdivision))\n",
        "print(\"Desvio-padrão: \", st.stdev(representative_subdivision))\n",
        "print(\"Coeficiente de Covariância: \", coefCovar(representative_subdivision))\n",
        "print(\"Alta dispersão\")\n"
      ],
      "metadata": {
        "colab": {
          "base_uri": "https://localhost:8080/"
        },
        "id": "jhS3G_2toZvX",
        "outputId": "aabb5c44-cd14-4de9-e00c-50abd9711bb1"
      },
      "execution_count": null,
      "outputs": [
        {
          "output_type": "stream",
          "name": "stdout",
          "text": [
            "Amplitude total:  5750\n",
            "Variância:  2613513.42236306\n",
            "Desvio-padrão:  1634.114112155227\n",
            "Coeficiente de Covariância:  73.2339409875619\n",
            "Alta dispersão\n"
          ]
        }
      ]
    },
    {
      "cell_type": "code",
      "source": [
        "#3)a)\n",
        "import pandas as pd\n",
        "\n",
        "url_announcementA = 'https://raw.githubusercontent.com/zenialexandre/StatisticsBasics/main/frequencyTableA.csv?token=GHSAT0AAAAAABWRFLTX6ADSKRZJNEJE5XRCYY6TFQQ'\n",
        "pd.read_csv(url_announcementA)"
      ],
      "metadata": {
        "colab": {
          "base_uri": "https://localhost:8080/",
          "height": 237
        },
        "id": "YA0KrtkLAhg4",
        "outputId": "3099c041-177b-4c04-daf4-d95a9775886f"
      },
      "execution_count": 73,
      "outputs": [
        {
          "output_type": "execute_result",
          "data": {
            "text/plain": [
              "           Classes\\tF\\tFA\\tF%\\tFA%\n",
              "0          [5; 10[\\t5\\t5\\t25%\\t25%\n",
              "1         [10; 15[\\t3\\t8\\t15%\\t40%\n",
              "2        [15; 20[\\t2\\t10\\t10%\\t50%\n",
              "3        [20; 25[\\t6\\t16\\t30%\\t80%\n",
              "4       [25; 30]\\t4\\t20\\t20%\\t100%\n",
              "5  TOTAL\\t20\\t------\\t100%\\t------"
            ],
            "text/html": [
              "\n",
              "  <div id=\"df-75a57d8c-13fc-4faa-ae15-cc1ee2104ab7\">\n",
              "    <div class=\"colab-df-container\">\n",
              "      <div>\n",
              "<style scoped>\n",
              "    .dataframe tbody tr th:only-of-type {\n",
              "        vertical-align: middle;\n",
              "    }\n",
              "\n",
              "    .dataframe tbody tr th {\n",
              "        vertical-align: top;\n",
              "    }\n",
              "\n",
              "    .dataframe thead th {\n",
              "        text-align: right;\n",
              "    }\n",
              "</style>\n",
              "<table border=\"1\" class=\"dataframe\">\n",
              "  <thead>\n",
              "    <tr style=\"text-align: right;\">\n",
              "      <th></th>\n",
              "      <th>Classes\\tF\\tFA\\tF%\\tFA%</th>\n",
              "    </tr>\n",
              "  </thead>\n",
              "  <tbody>\n",
              "    <tr>\n",
              "      <th>0</th>\n",
              "      <td>[5; 10[\\t5\\t5\\t25%\\t25%</td>\n",
              "    </tr>\n",
              "    <tr>\n",
              "      <th>1</th>\n",
              "      <td>[10; 15[\\t3\\t8\\t15%\\t40%</td>\n",
              "    </tr>\n",
              "    <tr>\n",
              "      <th>2</th>\n",
              "      <td>[15; 20[\\t2\\t10\\t10%\\t50%</td>\n",
              "    </tr>\n",
              "    <tr>\n",
              "      <th>3</th>\n",
              "      <td>[20; 25[\\t6\\t16\\t30%\\t80%</td>\n",
              "    </tr>\n",
              "    <tr>\n",
              "      <th>4</th>\n",
              "      <td>[25; 30]\\t4\\t20\\t20%\\t100%</td>\n",
              "    </tr>\n",
              "    <tr>\n",
              "      <th>5</th>\n",
              "      <td>TOTAL\\t20\\t------\\t100%\\t------</td>\n",
              "    </tr>\n",
              "  </tbody>\n",
              "</table>\n",
              "</div>\n",
              "      <button class=\"colab-df-convert\" onclick=\"convertToInteractive('df-75a57d8c-13fc-4faa-ae15-cc1ee2104ab7')\"\n",
              "              title=\"Convert this dataframe to an interactive table.\"\n",
              "              style=\"display:none;\">\n",
              "        \n",
              "  <svg xmlns=\"http://www.w3.org/2000/svg\" height=\"24px\"viewBox=\"0 0 24 24\"\n",
              "       width=\"24px\">\n",
              "    <path d=\"M0 0h24v24H0V0z\" fill=\"none\"/>\n",
              "    <path d=\"M18.56 5.44l.94 2.06.94-2.06 2.06-.94-2.06-.94-.94-2.06-.94 2.06-2.06.94zm-11 1L8.5 8.5l.94-2.06 2.06-.94-2.06-.94L8.5 2.5l-.94 2.06-2.06.94zm10 10l.94 2.06.94-2.06 2.06-.94-2.06-.94-.94-2.06-.94 2.06-2.06.94z\"/><path d=\"M17.41 7.96l-1.37-1.37c-.4-.4-.92-.59-1.43-.59-.52 0-1.04.2-1.43.59L10.3 9.45l-7.72 7.72c-.78.78-.78 2.05 0 2.83L4 21.41c.39.39.9.59 1.41.59.51 0 1.02-.2 1.41-.59l7.78-7.78 2.81-2.81c.8-.78.8-2.07 0-2.86zM5.41 20L4 18.59l7.72-7.72 1.47 1.35L5.41 20z\"/>\n",
              "  </svg>\n",
              "      </button>\n",
              "      \n",
              "  <style>\n",
              "    .colab-df-container {\n",
              "      display:flex;\n",
              "      flex-wrap:wrap;\n",
              "      gap: 12px;\n",
              "    }\n",
              "\n",
              "    .colab-df-convert {\n",
              "      background-color: #E8F0FE;\n",
              "      border: none;\n",
              "      border-radius: 50%;\n",
              "      cursor: pointer;\n",
              "      display: none;\n",
              "      fill: #1967D2;\n",
              "      height: 32px;\n",
              "      padding: 0 0 0 0;\n",
              "      width: 32px;\n",
              "    }\n",
              "\n",
              "    .colab-df-convert:hover {\n",
              "      background-color: #E2EBFA;\n",
              "      box-shadow: 0px 1px 2px rgba(60, 64, 67, 0.3), 0px 1px 3px 1px rgba(60, 64, 67, 0.15);\n",
              "      fill: #174EA6;\n",
              "    }\n",
              "\n",
              "    [theme=dark] .colab-df-convert {\n",
              "      background-color: #3B4455;\n",
              "      fill: #D2E3FC;\n",
              "    }\n",
              "\n",
              "    [theme=dark] .colab-df-convert:hover {\n",
              "      background-color: #434B5C;\n",
              "      box-shadow: 0px 1px 3px 1px rgba(0, 0, 0, 0.15);\n",
              "      filter: drop-shadow(0px 1px 2px rgba(0, 0, 0, 0.3));\n",
              "      fill: #FFFFFF;\n",
              "    }\n",
              "  </style>\n",
              "\n",
              "      <script>\n",
              "        const buttonEl =\n",
              "          document.querySelector('#df-75a57d8c-13fc-4faa-ae15-cc1ee2104ab7 button.colab-df-convert');\n",
              "        buttonEl.style.display =\n",
              "          google.colab.kernel.accessAllowed ? 'block' : 'none';\n",
              "\n",
              "        async function convertToInteractive(key) {\n",
              "          const element = document.querySelector('#df-75a57d8c-13fc-4faa-ae15-cc1ee2104ab7');\n",
              "          const dataTable =\n",
              "            await google.colab.kernel.invokeFunction('convertToInteractive',\n",
              "                                                     [key], {});\n",
              "          if (!dataTable) return;\n",
              "\n",
              "          const docLinkHtml = 'Like what you see? Visit the ' +\n",
              "            '<a target=\"_blank\" href=https://colab.research.google.com/notebooks/data_table.ipynb>data table notebook</a>'\n",
              "            + ' to learn more about interactive tables.';\n",
              "          element.innerHTML = '';\n",
              "          dataTable['output_type'] = 'display_data';\n",
              "          await google.colab.output.renderOutput(dataTable, element);\n",
              "          const docLink = document.createElement('div');\n",
              "          docLink.innerHTML = docLinkHtml;\n",
              "          element.appendChild(docLink);\n",
              "        }\n",
              "      </script>\n",
              "    </div>\n",
              "  </div>\n",
              "  "
            ]
          },
          "metadata": {},
          "execution_count": 73
        }
      ]
    },
    {
      "cell_type": "code",
      "source": [
        "#3)a)\n",
        "import pandas as pd\n",
        "\n",
        "url_announcementB = 'https://raw.githubusercontent.com/zenialexandre/StatisticsBasics/main/frequecyTableB.csv?token=GHSAT0AAAAAABWRFLTXV4L27FCLRQCWCX32YY6TD4A'\n",
        "pd.read_csv(url_announcementB)"
      ],
      "metadata": {
        "colab": {
          "base_uri": "https://localhost:8080/",
          "height": 237
        },
        "id": "pT3AlTcNgkkR",
        "outputId": "ce3ed339-16c6-4694-8602-338a1c055b04"
      },
      "execution_count": 71,
      "outputs": [
        {
          "output_type": "execute_result",
          "data": {
            "text/plain": [
              "           Classes\\tF\\tFA\\tF%\\tFA%\n",
              "0          [5; 11[\\t6\\t6\\t30%\\t30%\n",
              "1        [11; 17[\\t5\\t11\\t25%\\t55%\n",
              "2        [17; 23[\\t3\\t14\\t15%\\t70%\n",
              "3        [23; 29[\\t4\\t18\\t20%\\t90%\n",
              "4       [29; 30]\\t2\\t20\\t10%\\t100%\n",
              "5  TOTAL\\t20\\t------\\t100%\\t------"
            ],
            "text/html": [
              "\n",
              "  <div id=\"df-e0cc4aa1-4adf-4297-8727-f9b2b8a5ee1b\">\n",
              "    <div class=\"colab-df-container\">\n",
              "      <div>\n",
              "<style scoped>\n",
              "    .dataframe tbody tr th:only-of-type {\n",
              "        vertical-align: middle;\n",
              "    }\n",
              "\n",
              "    .dataframe tbody tr th {\n",
              "        vertical-align: top;\n",
              "    }\n",
              "\n",
              "    .dataframe thead th {\n",
              "        text-align: right;\n",
              "    }\n",
              "</style>\n",
              "<table border=\"1\" class=\"dataframe\">\n",
              "  <thead>\n",
              "    <tr style=\"text-align: right;\">\n",
              "      <th></th>\n",
              "      <th>Classes\\tF\\tFA\\tF%\\tFA%</th>\n",
              "    </tr>\n",
              "  </thead>\n",
              "  <tbody>\n",
              "    <tr>\n",
              "      <th>0</th>\n",
              "      <td>[5; 11[\\t6\\t6\\t30%\\t30%</td>\n",
              "    </tr>\n",
              "    <tr>\n",
              "      <th>1</th>\n",
              "      <td>[11; 17[\\t5\\t11\\t25%\\t55%</td>\n",
              "    </tr>\n",
              "    <tr>\n",
              "      <th>2</th>\n",
              "      <td>[17; 23[\\t3\\t14\\t15%\\t70%</td>\n",
              "    </tr>\n",
              "    <tr>\n",
              "      <th>3</th>\n",
              "      <td>[23; 29[\\t4\\t18\\t20%\\t90%</td>\n",
              "    </tr>\n",
              "    <tr>\n",
              "      <th>4</th>\n",
              "      <td>[29; 30]\\t2\\t20\\t10%\\t100%</td>\n",
              "    </tr>\n",
              "    <tr>\n",
              "      <th>5</th>\n",
              "      <td>TOTAL\\t20\\t------\\t100%\\t------</td>\n",
              "    </tr>\n",
              "  </tbody>\n",
              "</table>\n",
              "</div>\n",
              "      <button class=\"colab-df-convert\" onclick=\"convertToInteractive('df-e0cc4aa1-4adf-4297-8727-f9b2b8a5ee1b')\"\n",
              "              title=\"Convert this dataframe to an interactive table.\"\n",
              "              style=\"display:none;\">\n",
              "        \n",
              "  <svg xmlns=\"http://www.w3.org/2000/svg\" height=\"24px\"viewBox=\"0 0 24 24\"\n",
              "       width=\"24px\">\n",
              "    <path d=\"M0 0h24v24H0V0z\" fill=\"none\"/>\n",
              "    <path d=\"M18.56 5.44l.94 2.06.94-2.06 2.06-.94-2.06-.94-.94-2.06-.94 2.06-2.06.94zm-11 1L8.5 8.5l.94-2.06 2.06-.94-2.06-.94L8.5 2.5l-.94 2.06-2.06.94zm10 10l.94 2.06.94-2.06 2.06-.94-2.06-.94-.94-2.06-.94 2.06-2.06.94z\"/><path d=\"M17.41 7.96l-1.37-1.37c-.4-.4-.92-.59-1.43-.59-.52 0-1.04.2-1.43.59L10.3 9.45l-7.72 7.72c-.78.78-.78 2.05 0 2.83L4 21.41c.39.39.9.59 1.41.59.51 0 1.02-.2 1.41-.59l7.78-7.78 2.81-2.81c.8-.78.8-2.07 0-2.86zM5.41 20L4 18.59l7.72-7.72 1.47 1.35L5.41 20z\"/>\n",
              "  </svg>\n",
              "      </button>\n",
              "      \n",
              "  <style>\n",
              "    .colab-df-container {\n",
              "      display:flex;\n",
              "      flex-wrap:wrap;\n",
              "      gap: 12px;\n",
              "    }\n",
              "\n",
              "    .colab-df-convert {\n",
              "      background-color: #E8F0FE;\n",
              "      border: none;\n",
              "      border-radius: 50%;\n",
              "      cursor: pointer;\n",
              "      display: none;\n",
              "      fill: #1967D2;\n",
              "      height: 32px;\n",
              "      padding: 0 0 0 0;\n",
              "      width: 32px;\n",
              "    }\n",
              "\n",
              "    .colab-df-convert:hover {\n",
              "      background-color: #E2EBFA;\n",
              "      box-shadow: 0px 1px 2px rgba(60, 64, 67, 0.3), 0px 1px 3px 1px rgba(60, 64, 67, 0.15);\n",
              "      fill: #174EA6;\n",
              "    }\n",
              "\n",
              "    [theme=dark] .colab-df-convert {\n",
              "      background-color: #3B4455;\n",
              "      fill: #D2E3FC;\n",
              "    }\n",
              "\n",
              "    [theme=dark] .colab-df-convert:hover {\n",
              "      background-color: #434B5C;\n",
              "      box-shadow: 0px 1px 3px 1px rgba(0, 0, 0, 0.15);\n",
              "      filter: drop-shadow(0px 1px 2px rgba(0, 0, 0, 0.3));\n",
              "      fill: #FFFFFF;\n",
              "    }\n",
              "  </style>\n",
              "\n",
              "      <script>\n",
              "        const buttonEl =\n",
              "          document.querySelector('#df-e0cc4aa1-4adf-4297-8727-f9b2b8a5ee1b button.colab-df-convert');\n",
              "        buttonEl.style.display =\n",
              "          google.colab.kernel.accessAllowed ? 'block' : 'none';\n",
              "\n",
              "        async function convertToInteractive(key) {\n",
              "          const element = document.querySelector('#df-e0cc4aa1-4adf-4297-8727-f9b2b8a5ee1b');\n",
              "          const dataTable =\n",
              "            await google.colab.kernel.invokeFunction('convertToInteractive',\n",
              "                                                     [key], {});\n",
              "          if (!dataTable) return;\n",
              "\n",
              "          const docLinkHtml = 'Like what you see? Visit the ' +\n",
              "            '<a target=\"_blank\" href=https://colab.research.google.com/notebooks/data_table.ipynb>data table notebook</a>'\n",
              "            + ' to learn more about interactive tables.';\n",
              "          element.innerHTML = '';\n",
              "          dataTable['output_type'] = 'display_data';\n",
              "          await google.colab.output.renderOutput(dataTable, element);\n",
              "          const docLink = document.createElement('div');\n",
              "          docLink.innerHTML = docLinkHtml;\n",
              "          element.appendChild(docLink);\n",
              "        }\n",
              "      </script>\n",
              "    </div>\n",
              "  </div>\n",
              "  "
            ]
          },
          "metadata": {},
          "execution_count": 71
        }
      ]
    },
    {
      "cell_type": "code",
      "source": [
        "#3)b)\n",
        "import pandas as pd\n",
        "import matplotlib.pyplot as plt\n",
        "\n",
        "announcementA = [6, 14, 23, 24, 6, 26, 22, 5, 28, 21, 20, 29, 18, 26, 14, 24, 19, 6, 12, 7]\n",
        "announcementB = [2, 6, 0, 30, 4, 27, 30, 12, 21, 11, 26, 15, 0, 26, 15, 14, 17, 18, 25, 7]\n",
        "days = [1, 2, 3, 4, 5, 6, 7, 8, 9, 10, 11, 12, 13, 14, 15, 16, 17, 18, 19, 20]\n",
        "sorted_announcementA = sorted(announcementA)\n",
        "sorted_announcementB = sorted(announcementB)\n",
        "data_frameA = pd.DataFrame(sorted_announcementA, columns=[\"sorted_announcementA\"])\n",
        "data_frameB = pd.DataFrame(sorted_announcementB, columns=[\"sorted_announcementB\"])\n",
        "\n",
        "relative_frequencyA = []\n",
        "relative_frequencyB = []\n",
        "\n",
        "for accesses in sorted_announcementA:\n",
        "  rf = sorted_announcementA.count(accesses) / 20\n",
        "  relative_frequencyA.append(rf)\n",
        "\n",
        "for accesses in sorted_announcementB:\n",
        "  rf = sorted_announcementB.count(accesses) / 20\n",
        "  relative_frequencyB.append(rf)\n",
        "\n",
        "plt.bar(days, relative_frequencyA)\n",
        "plt.title('AnnoucementA relative accesses x Days')\n",
        "plt.xlabel('Days')\n",
        "plt.ylabel('Relative Accesses')\n",
        "plt.show()\n",
        "\n",
        "plt.bar(days, relative_frequencyB)\n",
        "plt.title('AnnouncementB relative accesses x Days')\n",
        "plt.xlabel('Days')\n",
        "plt.ylabel('Relative Accesses')\n",
        "plt.show()\n",
        "\n"
      ],
      "metadata": {
        "colab": {
          "base_uri": "https://localhost:8080/",
          "height": 573
        },
        "id": "MbVi6jRpChwK",
        "outputId": "ce134914-40d7-44be-b2b0-6ca5b72e8477"
      },
      "execution_count": 23,
      "outputs": [
        {
          "output_type": "display_data",
          "data": {
            "text/plain": [
              "<Figure size 432x288 with 1 Axes>"
            ],
            "image/png": "[encoded data removed]"
          },
          "metadata": {
            "needs_background": "light"
          }
        },
        {
          "output_type": "display_data",
          "data": {
            "text/plain": [
              "<Figure size 432x288 with 1 Axes>"
            ],
            "image/png": "[encoded data removed]"
          },
          "metadata": {
            "needs_background": "light"
          }
        }
      ]
    },
    {
      "cell_type": "code",
      "source": [
        "#3)c)\n",
        "import numpy as np\n",
        "from scipy import stats as st\n",
        "\n",
        "announcementA = [6, 14, 23, 24, 6, 26, 22, 5, 28, 21, 20, 29, 18, 26, 14, 24, 19, 6, 12, 7]\n",
        "announcementB = [2, 6, 0, 30, 4, 27, 30, 12, 21, 11, 26, 15, 0, 26, 15, 14, 17, 18, 25, 7]\n",
        "days = [1, 2, 3, 4, 5, 6, 7, 8, 9, 10, 11, 12, 13, 14, 15, 16, 17, 18, 19, 20]\n",
        "sorted_announcementA = sorted(announcementA)\n",
        "sorted_announcementB = sorted(announcementB)\n",
        "\n",
        "\n",
        "print(\"Media do A: \", np.mean(sorted_announcementA))\n",
        "print(\"Media do B: \", np.mean(sorted_announcementB))\n",
        "print(\"Mediana do A: \", np.median(sorted_announcementA))\n",
        "print(\"Mediana do B: \", np.median(sorted_announcementB))\n",
        "print(\"Moda do A: \", st.mode(sorted_announcementA))\n",
        "print(\"Moda do B: \", st.mode(sorted_announcementB))\n"
      ],
      "metadata": {
        "colab": {
          "base_uri": "https://localhost:8080/"
        },
        "id": "rZbb7P-rNYEe",
        "outputId": "f08e8205-8583-41a8-f272-ece6d4badebd"
      },
      "execution_count": 31,
      "outputs": [
        {
          "output_type": "stream",
          "name": "stdout",
          "text": [
            "Media do A:  17.5\n",
            "Media do B:  15.3\n",
            "Mediana do A:  19.5\n",
            "Mediana do B:  15.0\n",
            "Moda do A:  ModeResult(mode=array([6]), count=array([3]))\n",
            "Moda do B:  ModeResult(mode=array([0]), count=array([2]))\n"
          ]
        }
      ]
    },
    {
      "cell_type": "code",
      "source": [
        "#3)d)\n",
        "import pandas as pd\n",
        "import numpy as np\n",
        "from matplotlib import pyplot as plt\n",
        "\n",
        "announcementA = [6, 14, 23, 24, 6, 26, 22, 5, 28, 21, 20, 29, 18, 26, 14, 24, 19, 6, 12, 7]\n",
        "announcementB = [2, 6, 0, 30, 4, 27, 30, 12, 21, 11, 26, 15, 0, 26, 15, 14, 17, 18, 25, 7]\n",
        "days = [1, 2, 3, 4, 5, 6, 7, 8, 9, 10, 11, 12, 13, 14, 15, 16, 17, 18, 19, 20]\n",
        "sorted_announcementA = sorted(announcementA)\n",
        "sorted_announcementB = sorted(announcementB)\n",
        "\n",
        "df = pd.DataFrame({\"AnnouncementA\": sorted_announcementA, \"AnnouncementB\": sorted_announcementB})\n",
        "ax = df[['AnnouncementA', 'AnnouncementB']].plot(kind='box', title='AnnouncementA x AnnouncementB')\n",
        "plt.show()"
      ],
      "metadata": {
        "colab": {
          "base_uri": "https://localhost:8080/",
          "height": 281
        },
        "id": "IxVh3UqpRGed",
        "outputId": "faa8cd5e-fa9c-4dbb-a487-d53cd0262d15"
      },
      "execution_count": 36,
      "outputs": [
        {
          "output_type": "display_data",
          "data": {
            "text/plain": [
              "<Figure size 432x288 with 1 Axes>"
            ],
            "image/png": "[encoded data removed]"
          },
          "metadata": {
            "needs_background": "light"
          }
        }
      ]
    },
    {
      "cell_type": "code",
      "source": [
        "#3)e)\n",
        "import pandas as pd\n",
        "import numpy as np\n",
        "import statistics as st\n",
        "\n",
        "announcementA = [6, 14, 23, 24, 6, 26, 22, 5, 28, 21, 20, 29, 18, 26, 14, 24, 19, 6, 12, 7]\n",
        "announcementB = [2, 6, 0, 30, 4, 27, 30, 12, 21, 11, 26, 15, 0, 26, 15, 14, 17, 18, 25, 7]\n",
        "sorted_announcementA = sorted(announcementA)\n",
        "sorted_announcementB = sorted(announcementB)\n",
        "amplTotalA = sorted_announcementA[len(sorted_announcementA) - 1] - sorted_announcementA[0]\n",
        "amplTotalB = sorted_announcementB[len(sorted_announcementB) - 1] - sorted_announcementB[0]\n",
        "coefCovar = lambda x: np.std(x, ddof = 1) / np.mean(x) * 100\n",
        "\n",
        "print(\"Amplitude total do A: \", amplTotalA)\n",
        "print(\"Amplitude total do B: \", amplTotalB)\n",
        "print(\"Variância do A: \", np.var(sorted_announcementA))\n",
        "print(\"Variância do B: \", np.var(sorted_announcementB))\n",
        "print(\"Coeficiente de Covariância do A: \", coefCovar(sorted_announcementA))\n",
        "print(\"Coeficiente de Covariância do B: \", coefCovar(sorted_announcementB))"
      ],
      "metadata": {
        "colab": {
          "base_uri": "https://localhost:8080/"
        },
        "id": "SA-GkPorROWu",
        "outputId": "0b1b4670-dfd1-4cca-c36b-c863d0326fd9"
      },
      "execution_count": 33,
      "outputs": [
        {
          "output_type": "stream",
          "name": "stdout",
          "text": [
            "Amplitude total do A:  24\n",
            "Amplitude total do B:  30\n",
            "Variância do A:  63.05\n",
            "Variância do B:  94.71\n",
            "Coeficiente de Covariância do A:  46.55246627198495\n",
            "Coeficiente de Covariância do B:  65.2596416738104\n"
          ]
        }
      ]
    },
    {
      "cell_type": "code",
      "source": [
        "#3)f)\n",
        "print(\"Eu como um investidor, apos analisar os resultados da analise, investiria no Anuncio B.\")"
      ],
      "metadata": {
        "colab": {
          "base_uri": "https://localhost:8080/"
        },
        "id": "r4quPdQlR6fP",
        "outputId": "8a325a18-d7cb-4760-d3f7-35e0b2edd398"
      },
      "execution_count": 34,
      "outputs": [
        {
          "output_type": "stream",
          "name": "stdout",
          "text": [
            "Eu como um investidor, apos analisar os resultados da analise, investiria no Anuncio B.\n"
          ]
        }
      ]
    }
  ]
}